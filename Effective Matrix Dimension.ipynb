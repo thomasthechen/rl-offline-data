{
 "cells": [
  {
   "cell_type": "code",
   "execution_count": 1,
   "metadata": {},
   "outputs": [],
   "source": [
    "import numpy as np\n",
    "import itertools"
   ]
  },
  {
   "cell_type": "code",
   "execution_count": 13,
   "metadata": {},
   "outputs": [],
   "source": [
    "import matplotlib.pyplot as plt"
   ]
  },
  {
   "cell_type": "code",
   "execution_count": 3,
   "metadata": {},
   "outputs": [],
   "source": [
    "# this can probably be sped up with DP; one counter for each dimension n\n",
    "\n",
    "def kernelize(n, d, xt):\n",
    "    # returns phi(xt), dimension n^d\n",
    "    phi_xt = np.array([], dtype=float)\n",
    "    for k in range(1, d + 1):\n",
    "        combos_k = list(itertools.combinations_with_replacement(np.arange(len(xt)),k))\n",
    "        # print(combos)\n",
    "        phi_xt_k = np.ones(len(combos_k), dtype=float)\n",
    "        for i in range(len(combos_k)):\n",
    "            tup = combos_k[i]\n",
    "            for j in tup:\n",
    "                phi_xt_k[i] *= xt[j]\n",
    "                \n",
    "        phi_xt = np.concatenate((phi_xt, phi_xt_k))\n",
    "    return phi_xt\n",
    "    "
   ]
  },
  {
   "cell_type": "code",
   "execution_count": 38,
   "metadata": {},
   "outputs": [],
   "source": [
    "n = 20\n",
    "d = 3\n",
    "t = 3000"
   ]
  },
  {
   "cell_type": "code",
   "execution_count": 39,
   "metadata": {},
   "outputs": [
    {
     "name": "stdout",
     "output_type": "stream",
     "text": [
      "(3000, 1770) [[-3.39336163e-01  2.84939913e-01 -6.33718415e-02 ...  4.65955938e-04\n",
      "  -3.22416945e-05  2.23095529e-06]\n",
      " [-3.53254475e-01  5.07400348e-02 -2.11558894e-01 ...  2.78093474e-03\n",
      "   9.99911829e-03  3.59527913e-02]\n",
      " [-1.73740211e-01  1.32860296e-01  5.23055947e-02 ... -1.07112382e-05\n",
      "  -4.71522592e-06 -2.07570358e-06]\n",
      " ...\n",
      " [ 3.52292099e-01 -6.46429558e-03  1.73947950e-01 ... -2.06123883e-02\n",
      "   3.04397283e-02 -4.49524358e-02]\n",
      " [ 4.18283202e-03 -1.71346402e-01 -1.60728252e-01 ...  1.75334427e-03\n",
      "   1.17367945e-03  7.85654860e-04]\n",
      " [ 7.92401363e-02 -2.18468058e-02  2.98200050e-02 ... -6.52326559e-02\n",
      "   4.25627500e-02 -2.77711779e-02]]\n"
     ]
    }
   ],
   "source": [
    "phi = np.array([])\n",
    "for i in range(t):\n",
    "    # sample haar random from dimension d;\n",
    "    xt = np.random.normal(size=(n, 1))\n",
    "    xt = xt/np.linalg.norm(xt)\n",
    "    \n",
    "    # boost it up to the kernel dimension (1000);\n",
    "    phi_xt = kernelize(xt, d, xt)\n",
    "    if len(phi) == 0:\n",
    "        phi = np.array([phi_xt])\n",
    "    else:\n",
    "        phi = np.concatenate((phi, np.array([phi_xt])), axis=0)\n",
    "    # print(xt, np.linalg.norm(xt))\n",
    "    \n",
    "print(phi.shape, phi)"
   ]
  },
  {
   "cell_type": "code",
   "execution_count": 40,
   "metadata": {},
   "outputs": [],
   "source": [
    "lambda_range = [0.01, 0.1, 0.2, 0.5, 1.0, 3.0, 10.0]"
   ]
  },
  {
   "cell_type": "code",
   "execution_count": 41,
   "metadata": {},
   "outputs": [
    {
     "name": "stderr",
     "output_type": "stream",
     "text": [
      "/Users/tchen/opt/miniconda3/lib/python3.8/site-packages/numpy/linalg/linalg.py:2158: RuntimeWarning: overflow encountered in det\n",
      "  r = _umath_linalg.det(a, signature=signature)\n"
     ]
    },
    {
     "name": "stdout",
     "output_type": "stream",
     "text": [
      "1652.3109155658972 inf\n",
      "1233.8689411680189 inf\n",
      "1024.1797621138387 inf\n",
      "734.98748797503 inf\n",
      "540.4822010470788 inf\n",
      "310.96471015699615 248.7250630051703\n",
      "155.81073369505634 112.37736902513579\n"
     ]
    }
   ],
   "source": [
    "for lambd in lambda_range:\n",
    "    # compute the effective dimension\n",
    "    cov = phi @ phi.T\n",
    "    d_eff = np.trace(cov @ (np.linalg.inv(cov + lambd * np.identity(t))))\n",
    "    \n",
    "    d_eff2 = 0.5 * np.log (np.linalg.det((1/lambd) * cov + np.identity(t)))\n",
    "    print(d_eff, d_eff2)\n",
    "    # fairly similar"
   ]
  },
  {
   "cell_type": "code",
   "execution_count": 43,
   "metadata": {},
   "outputs": [
    {
     "data": {
      "text/plain": [
       "([<matplotlib.axis.YTick at 0x7fec0f042dc0>,\n",
       "  <matplotlib.axis.YTick at 0x7fec0f0429a0>,\n",
       "  <matplotlib.axis.YTick at 0x7fec0f03e820>,\n",
       "  <matplotlib.axis.YTick at 0x7fec0f06c250>,\n",
       "  <matplotlib.axis.YTick at 0x7fec0f06c5b0>,\n",
       "  <matplotlib.axis.YTick at 0x7fec0f06cac0>,\n",
       "  <matplotlib.axis.YTick at 0x7fec0f06cfd0>,\n",
       "  <matplotlib.axis.YTick at 0x7fec0f071520>,\n",
       "  <matplotlib.axis.YTick at 0x7fec0f071a30>,\n",
       "  <matplotlib.axis.YTick at 0x7fec0f071f40>,\n",
       "  <matplotlib.axis.YTick at 0x7fec0f076490>,\n",
       "  <matplotlib.axis.YTick at 0x7fec0f0769a0>,\n",
       "  <matplotlib.axis.YTick at 0x7fec0f071670>,\n",
       "  <matplotlib.axis.YTick at 0x7fec0f06c700>,\n",
       "  <matplotlib.axis.YTick at 0x7fec0f0761c0>,\n",
       "  <matplotlib.axis.YTick at 0x7fec0f07d1c0>,\n",
       "  <matplotlib.axis.YTick at 0x7fec0f07d6d0>,\n",
       "  <matplotlib.axis.YTick at 0x7fec0f07dbe0>,\n",
       "  <matplotlib.axis.YTick at 0x7fec0f086130>,\n",
       "  <matplotlib.axis.YTick at 0x7fec0f086640>,\n",
       "  <matplotlib.axis.YTick at 0x7fec0f086b50>,\n",
       "  <matplotlib.axis.YTick at 0x7fec0f07d910>,\n",
       "  <matplotlib.axis.YTick at 0x7fec0f076b20>,\n",
       "  <matplotlib.axis.YTick at 0x7fec0f0866d0>,\n",
       "  <matplotlib.axis.YTick at 0x7fec0f08e250>,\n",
       "  <matplotlib.axis.YTick at 0x7fec0f08e760>,\n",
       "  <matplotlib.axis.YTick at 0x7fec0f08eca0>,\n",
       "  <matplotlib.axis.YTick at 0x7fec0f0931f0>,\n",
       "  <matplotlib.axis.YTick at 0x7fec0f093700>,\n",
       "  <matplotlib.axis.YTick at 0x7fec0f093c10>],\n",
       " [Text(0, 0, ''),\n",
       "  Text(0, 0, ''),\n",
       "  Text(0, 0, ''),\n",
       "  Text(0, 0, ''),\n",
       "  Text(0, 0, ''),\n",
       "  Text(0, 0, ''),\n",
       "  Text(0, 0, ''),\n",
       "  Text(0, 0, ''),\n",
       "  Text(0, 0, ''),\n",
       "  Text(0, 0, ''),\n",
       "  Text(0, 0, ''),\n",
       "  Text(0, 0, ''),\n",
       "  Text(0, 0, ''),\n",
       "  Text(0, 0, ''),\n",
       "  Text(0, 0, ''),\n",
       "  Text(0, 0, ''),\n",
       "  Text(0, 0, ''),\n",
       "  Text(0, 0, ''),\n",
       "  Text(0, 0, ''),\n",
       "  Text(0, 0, ''),\n",
       "  Text(0, 0, ''),\n",
       "  Text(0, 0, ''),\n",
       "  Text(0, 0, ''),\n",
       "  Text(0, 0, ''),\n",
       "  Text(0, 0, ''),\n",
       "  Text(0, 0, ''),\n",
       "  Text(0, 0, ''),\n",
       "  Text(0, 0, ''),\n",
       "  Text(0, 0, ''),\n",
       "  Text(0, 0, '')])"
      ]
     },
     "execution_count": 43,
     "metadata": {},
     "output_type": "execute_result"
    },
    {
     "data": {
      "image/png": "[encoded data removed]",
      "text/plain": [
       "<Figure size 1008x720 with 1 Axes>"
      ]
     },
     "metadata": {
      "needs_background": "light"
     },
     "output_type": "display_data"
    }
   ],
   "source": [
    "lambda_range = np.arange(50) * 0.2\n",
    "effective_dims = []\n",
    "for lambd in lambda_range:\n",
    "    # compute the effective dimension\n",
    "    cov = phi @ phi.T\n",
    "    d_eff = np.trace(cov @ (np.linalg.inv(cov + lambd * np.identity(t))))\n",
    "    effective_dims.append(d_eff)\n",
    "\n",
    "plt.figure(figsize=(14,10))\n",
    "plt.plot(lambda_range, effective_dims)\n",
    "plt.title('Effective Dimension vs Lambda on 3000 datapoints in n=20 dimensional space with poly dimension d=3')\n",
    "plt.xlabel('Lambda')\n",
    "plt.ylabel('Effective Dimension')\n",
    "plt.yticks(range(0, 3000, 100))"
   ]
  },
  {
   "cell_type": "code",
   "execution_count": null,
   "metadata": {},
   "outputs": [],
   "source": []
  }
 ],
 "metadata": {
  "kernelspec": {
   "display_name": "Python 3",
   "language": "python",
   "name": "python3"
  },
  "language_info": {
   "codemirror_mode": {
    "name": "ipython",
    "version": 3
   },
   "file_extension": ".py",
   "mimetype": "text/x-python",
   "name": "python",
   "nbconvert_exporter": "python",
   "pygments_lexer": "ipython3",
   "version": "3.8.3"
  }
 },
 "nbformat": 4,
 "nbformat_minor": 4
}
