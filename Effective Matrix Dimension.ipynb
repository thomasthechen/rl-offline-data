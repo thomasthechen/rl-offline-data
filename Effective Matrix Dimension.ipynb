{
 "cells": [
  {
   "cell_type": "code",
   "execution_count": 15,
   "metadata": {},
   "outputs": [],
   "source": [
    "import numpy as np\n",
    "import itertools"
   ]
  },
  {
   "cell_type": "code",
   "execution_count": 82,
   "metadata": {},
   "outputs": [],
   "source": [
    "def kernelize(n, d, xt):\n",
    "    # returns phi(xt), dimension n^d\n",
    "    phi_xt = np.array([], dtype=float)\n",
    "    for k in range(1, d + 1):\n",
    "        combos_k = list(itertools.combinations_with_replacement(np.arange(len(xt)),k))\n",
    "        # print(combos)\n",
    "        phi_xt_k = np.ones(len(combos_k), dtype=float)\n",
    "        for i in range(len(combos_k)):\n",
    "            tup = combos_k[i]\n",
    "            for j in tup:\n",
    "                phi_xt_k[i] *= xt[j]\n",
    "                \n",
    "        phi_xt = np.concatenate((phi_xt, phi_xt_k))\n",
    "    return phi_xt\n",
    "    "
   ]
  },
  {
   "cell_type": "code",
   "execution_count": 90,
   "metadata": {},
   "outputs": [],
   "source": [
    "n = 20\n",
    "d = 3\n",
    "t = 1000"
   ]
  },
  {
   "cell_type": "code",
   "execution_count": 85,
   "metadata": {},
   "outputs": [
    {
     "name": "stdout",
     "output_type": "stream",
     "text": [
      "20 1770\n"
     ]
    }
   ],
   "source": [
    "xt = np.ones(20)\n",
    "print(len(xt), len(kernelize(4, 3, xt)))"
   ]
  },
  {
   "cell_type": "code",
   "execution_count": 91,
   "metadata": {},
   "outputs": [
    {
     "name": "stdout",
     "output_type": "stream",
     "text": [
      "(1000, 1770) [[ 3.09339263e-01  3.84483489e-02  2.70468079e-01 ...  1.05866395e-02\n",
      "  -6.42105587e-03  3.89452749e-03]\n",
      " [-3.47216306e-02 -1.12022031e-01 -3.32621216e-01 ...  1.99374265e-04\n",
      "   1.10633746e-04  6.13912021e-05]\n",
      " [-1.87072547e-01  9.06718943e-02 -1.18096161e-01 ...  3.37743807e-03\n",
      "   1.22655145e-02  4.45434803e-02]\n",
      " ...\n",
      " [-2.55269217e-01 -2.09438403e-01  1.06228161e-01 ... -1.40961755e-05\n",
      "   1.38509400e-06 -1.36099710e-07]\n",
      " [ 7.86439813e-02 -2.18018165e-01  3.83598270e-02 ... -2.47108177e-05\n",
      "  -8.11060792e-04 -2.66207139e-02]\n",
      " [-3.47763794e-02 -9.08363229e-02 -2.60402174e-02 ... -5.63050172e-03\n",
      "   1.25011807e-02 -2.77558780e-02]]\n"
     ]
    }
   ],
   "source": [
    "phi = np.array([])\n",
    "for i in range(t):\n",
    "    # sample haar random from dimension d; then boost it up to the kernel dimension (1000); then compute the effective dimension\n",
    "    xt = np.random.normal(size=(n, 1))\n",
    "    xt = xt/np.linalg.norm(xt)\n",
    "    phi_xt = kernelize(xt, d, xt)\n",
    "    \n",
    "    if len(phi) == 0:\n",
    "        phi = np.array([phi_xt])\n",
    "    else:\n",
    "        phi = np.concatenate((phi, np.array([phi_xt])), axis=0)\n",
    "    # print(xt, np.linalg.norm(xt))\n",
    "    \n",
    "print(phi.shape, phi)\n",
    "    \n",
    "    "
   ]
  },
  {
   "cell_type": "code",
   "execution_count": 92,
   "metadata": {},
   "outputs": [
    {
     "data": {
      "text/plain": [
       "(1000, 1770)"
      ]
     },
     "execution_count": 92,
     "metadata": {},
     "output_type": "execute_result"
    }
   ],
   "source": [
    "phi.shape"
   ]
  },
  {
   "cell_type": "code",
   "execution_count": 97,
   "metadata": {},
   "outputs": [
    {
     "data": {
      "text/plain": [
       "922.8795811673052"
      ]
     },
     "execution_count": 97,
     "metadata": {},
     "output_type": "execute_result"
    }
   ],
   "source": [
    "lamb = 0.01\n",
    "\n",
    "cov = phi @ phi.T\n",
    "d_eff = np.trace(cov @ (np.linalg.inv(cov + lamb * np.identity(t)))  )\n",
    "d_eff"
   ]
  },
  {
   "cell_type": "code",
   "execution_count": 98,
   "metadata": {},
   "outputs": [
    {
     "name": "stdout",
     "output_type": "stream",
     "text": [
      "547\n"
     ]
    }
   ],
   "source": [
    "# Method 2\n",
    "C_t = phi.T @ phi + lamb * np.identity(len(phi.T))\n",
    "eig = -np.sort(-np.linalg.eigvals(C_t).real)\n",
    "d_eff_2 = 0\n",
    "\n",
    "upper_tail = eig[-1] - lamb\n",
    "for j in range(1, len(phi.T)):\n",
    "    idx = len(phi.T) - 1 - j\n",
    "    if idx * lamb * np.log(t) < upper_tail:\n",
    "        d_eff_2 = idx + 1\n",
    "        break\n",
    "    upper_tail += eig[idx] - lamb\n",
    "        \n",
    "    \n",
    "print(d_eff_2)\n",
    "    "
   ]
  }
 ],
 "metadata": {
  "kernelspec": {
   "display_name": "Python 3",
   "language": "python",
   "name": "python3"
  },
  "language_info": {
   "codemirror_mode": {
    "name": "ipython",
    "version": 3
   },
   "file_extension": ".py",
   "mimetype": "text/x-python",
   "name": "python",
   "nbconvert_exporter": "python",
   "pygments_lexer": "ipython3",
   "version": "3.8.3"
  }
 },
 "nbformat": 4,
 "nbformat_minor": 4
}
