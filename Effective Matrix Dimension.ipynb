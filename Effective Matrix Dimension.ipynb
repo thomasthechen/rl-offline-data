{
 "cells": [
  {
   "cell_type": "code",
   "execution_count": 1,
   "metadata": {},
   "outputs": [],
   "source": [
    "import numpy as np\n",
    "import itertools"
   ]
  },
  {
   "cell_type": "code",
   "execution_count": 2,
   "metadata": {},
   "outputs": [],
   "source": [
    "import matplotlib.pyplot as plt"
   ]
  },
  {
   "cell_type": "code",
   "execution_count": 3,
   "metadata": {},
   "outputs": [],
   "source": [
    "# this can probably be sped up with DP; one counter for each dimension n\n",
    "\n",
    "def kernelize(n, d, xt):\n",
    "    # returns phi(xt), dimension n^d\n",
    "    phi_xt = np.array([], dtype=float)\n",
    "    for k in range(1, d + 1):\n",
    "        combos_k = list(itertools.combinations_with_replacement(np.arange(len(xt)),k))\n",
    "        # print(combos)\n",
    "        phi_xt_k = np.ones(len(combos_k), dtype=float)\n",
    "        for i in range(len(combos_k)):\n",
    "            tup = combos_k[i]\n",
    "            for j in tup:\n",
    "                phi_xt_k[i] *= xt[j]\n",
    "                \n",
    "        phi_xt = np.concatenate((phi_xt, phi_xt_k))\n",
    "    return phi_xt\n",
    "    "
   ]
  },
  {
   "cell_type": "code",
   "execution_count": 21,
   "metadata": {},
   "outputs": [],
   "source": [
    "n = 20\n",
    "d = 3\n",
    "t = 3000"
   ]
  },
  {
   "cell_type": "code",
   "execution_count": 22,
   "metadata": {},
   "outputs": [
    {
     "name": "stdout",
     "output_type": "stream",
     "text": [
      "(3000, 1770) [[-1.52127186e-01  3.86630785e-01 -1.69529792e-01 ... -2.72020828e-02\n",
      "  -3.68483928e-02 -4.99154444e-02]\n",
      " [ 5.16409294e-02 -5.79199313e-02 -5.04073658e-01 ... -1.45958602e-03\n",
      "  -9.83409702e-04 -6.62581466e-04]\n",
      " [-2.10263389e-02 -3.14129958e-04  3.83592660e-02 ...  6.05895730e-05\n",
      "  -1.59049850e-04  4.17511687e-04]\n",
      " ...\n",
      " [-1.50979874e-01 -4.25160677e-01  1.25129001e-01 ...  3.87852429e-03\n",
      "   9.13752875e-04  2.15273711e-04]\n",
      " [-7.42971358e-02  1.91245110e-01 -3.13683453e-01 ... -2.09812022e-03\n",
      "  -1.19023497e-02 -6.75204059e-02]\n",
      " [-2.32324015e-01 -3.72980339e-01 -3.10908187e-01 ... -3.09443096e-03\n",
      "   1.46593807e-03 -6.94465138e-04]]\n"
     ]
    }
   ],
   "source": [
    "phi = np.array([])\n",
    "for i in range(t):\n",
    "    # sample haar random from dimension d;\n",
    "    xt = np.random.normal(size=(n, 1))\n",
    "    xt = xt/np.linalg.norm(xt)\n",
    "    \n",
    "    # boost it up to the kernel dimension (1000);\n",
    "    phi_xt = kernelize(xt, d, xt)\n",
    "    if len(phi) == 0:\n",
    "        phi = np.array([phi_xt])\n",
    "    else:\n",
    "        phi = np.concatenate((phi, np.array([phi_xt])), axis=0)\n",
    "    # print(xt, np.linalg.norm(xt))\n",
    "    \n",
    "print(phi.shape, phi)"
   ]
  },
  {
   "cell_type": "code",
   "execution_count": 25,
   "metadata": {},
   "outputs": [],
   "source": [
    "lambda_range = [0.01, 0.1, 0.2, 0.5, 1.0, 3.0, 10.0]"
   ]
  },
  {
   "cell_type": "code",
   "execution_count": 26,
   "metadata": {},
   "outputs": [
    {
     "name": "stdout",
     "output_type": "stream",
     "text": [
      "1651.409350823882 inf\n",
      "1231.6244777205493 inf\n",
      "1022.190724213621 inf\n",
      "733.8794674161043 inf\n",
      "540.0388595743511 inf\n",
      "310.99485295840867 248.8619953362602\n",
      "155.88874476444073 112.47403911487372\n"
     ]
    }
   ],
   "source": [
    "for lambd in lambda_range:\n",
    "    # compute the effective dimension\n",
    "    cov = phi @ phi.T\n",
    "    d_eff = np.trace(cov @ (np.linalg.inv(cov + lambd * np.identity(t))))\n",
    "    \n",
    "    d_eff2 = 0.5 * np.log (np.linalg.det((1/lambd) * cov + np.identity(t)))\n",
    "    print(d_eff, d_eff2)\n",
    "    # fairly similar"
   ]
  },
  {
   "cell_type": "code",
   "execution_count": 32,
   "metadata": {},
   "outputs": [
    {
     "data": {
      "text/plain": [
       "([<matplotlib.axis.YTick at 0x7fb030c635e0>,\n",
       "  <matplotlib.axis.YTick at 0x7fb030c631c0>,\n",
       "  <matplotlib.axis.YTick at 0x7fb030c5bfa0>,\n",
       "  <matplotlib.axis.YTick at 0x7fb030c84a30>,\n",
       "  <matplotlib.axis.YTick at 0x7fb030c84f40>,\n",
       "  <matplotlib.axis.YTick at 0x7fb030c8f490>,\n",
       "  <matplotlib.axis.YTick at 0x7fb030c8f9a0>,\n",
       "  <matplotlib.axis.YTick at 0x7fb030c8feb0>,\n",
       "  <matplotlib.axis.YTick at 0x7fb0310e0400>,\n",
       "  <matplotlib.axis.YTick at 0x7fb0310e0910>,\n",
       "  <matplotlib.axis.YTick at 0x7fb0310e0e20>,\n",
       "  <matplotlib.axis.YTick at 0x7fb0310e7370>,\n",
       "  <matplotlib.axis.YTick at 0x7fb0310e00d0>,\n",
       "  <matplotlib.axis.YTick at 0x7fb030c8f160>,\n",
       "  <matplotlib.axis.YTick at 0x7fb0310e7550>,\n",
       "  <matplotlib.axis.YTick at 0x7fb0310e7a60>,\n",
       "  <matplotlib.axis.YTick at 0x7fb0310e7f70>,\n",
       "  <matplotlib.axis.YTick at 0x7fb0310ed4c0>,\n",
       "  <matplotlib.axis.YTick at 0x7fb0310ed9d0>,\n",
       "  <matplotlib.axis.YTick at 0x7fb0310edee0>],\n",
       " [Text(0, 0, ''),\n",
       "  Text(0, 0, ''),\n",
       "  Text(0, 0, ''),\n",
       "  Text(0, 0, ''),\n",
       "  Text(0, 0, ''),\n",
       "  Text(0, 0, ''),\n",
       "  Text(0, 0, ''),\n",
       "  Text(0, 0, ''),\n",
       "  Text(0, 0, ''),\n",
       "  Text(0, 0, ''),\n",
       "  Text(0, 0, ''),\n",
       "  Text(0, 0, ''),\n",
       "  Text(0, 0, ''),\n",
       "  Text(0, 0, ''),\n",
       "  Text(0, 0, ''),\n",
       "  Text(0, 0, ''),\n",
       "  Text(0, 0, ''),\n",
       "  Text(0, 0, ''),\n",
       "  Text(0, 0, ''),\n",
       "  Text(0, 0, '')])"
      ]
     },
     "execution_count": 32,
     "metadata": {},
     "output_type": "execute_result"
    },
    {
     "data": {
      "image/png": "[encoded data removed]",
      "text/plain": [
       "<Figure size 1008x720 with 1 Axes>"
      ]
     },
     "metadata": {
      "needs_background": "light"
     },
     "output_type": "display_data"
    }
   ],
   "source": [
    "lambda_range = np.concatenate((np.array([0.01]), np.arange(1, 50) * 0.2))\n",
    "effective_dims = []\n",
    "for lambd in lambda_range:\n",
    "    # compute the effective dimension\n",
    "    cov = phi @ phi.T\n",
    "    d_eff = np.trace(cov @ (np.linalg.inv(cov + lambd * np.identity(t))))\n",
    "    effective_dims.append(d_eff)\n",
    "\n",
    "plt.figure(figsize=(14,10))\n",
    "plt.plot(lambda_range, effective_dims)\n",
    "plt.title('Effective Dimension vs Lambda on 3000 datapoints in n=20 dimensional space with poly dimension d=3')\n",
    "plt.xlabel('Lambda')\n",
    "plt.ylabel('Effective Dimension')\n",
    "plt.yticks(range(0, 2000, 100))"
   ]
  }
 ],
 "metadata": {
  "kernelspec": {
   "display_name": "Python 3",
   "language": "python",
   "name": "python3"
  },
  "language_info": {
   "codemirror_mode": {
    "name": "ipython",
    "version": 3
   },
   "file_extension": ".py",
   "mimetype": "text/x-python",
   "name": "python",
   "nbconvert_exporter": "python",
   "pygments_lexer": "ipython3",
   "version": "3.8.3"
  }
 },
 "nbformat": 4,
 "nbformat_minor": 4
}
